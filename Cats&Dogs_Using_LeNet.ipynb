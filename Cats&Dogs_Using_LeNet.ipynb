{
 "cells": [
  {
   "cell_type": "code",
   "execution_count": 2,
   "id": "f9231600-48c5-4093-9b1c-00aa6b0e2439",
   "metadata": {
    "tags": []
   },
   "outputs": [],
   "source": [
    "#import library\n",
    "import numpy as np\n",
    "import matplotlib.pyplot as plt\n",
    "from sklearn.preprocessing import *\n",
    "from sklearn.preprocessing import OneHotEncoder, LabelEncoder\n",
    "from sklearn.model_selection import train_test_split\n",
    "import os\n",
    "import cv2\n",
    "import glob\n",
    "\n",
    "#import neural network library\n",
    "\n",
    "import tensorflow as tf \n",
    "from tensorflow.keras.models import Sequential, load_model\n",
    "from tensorflow.keras.layers import Conv2D, AveragePooling2D, Flatten, Dense\n",
    "from tensorflow.keras.utils import to_categorical\n",
    "\n",
    "#warnings\n",
    "\n",
    "import warnings\n",
    "warnings.filterwarnings(\"ignore\")\n"
   ]
  },
  {
   "cell_type": "code",
   "execution_count": 3,
   "id": "7ac8d6ff-bc47-40a7-a3ef-25fae2052d2d",
   "metadata": {},
   "outputs": [],
   "source": [
    "baseDir= r'C:\\Konika\\Deep neural Network\\DNN Course\\DNN_program\\Cats&Dogs\\train'"
   ]
  },
  {
   "cell_type": "code",
   "execution_count": 3,
   "id": "959a6718-468c-4b08-8e8d-a9185fa2fc3b",
   "metadata": {},
   "outputs": [],
   "source": [
    "nameTest=os.listdir(baseDir)"
   ]
  },
  {
   "cell_type": "code",
   "execution_count": 4,
   "id": "ae5c71ef-6ed6-4ae8-9abc-2b1b6c80861b",
   "metadata": {},
   "outputs": [
    {
     "data": {
      "text/plain": [
       "25000"
      ]
     },
     "execution_count": 4,
     "metadata": {},
     "output_type": "execute_result"
    }
   ],
   "source": [
    "len(nameTest)"
   ]
  },
  {
   "cell_type": "code",
   "execution_count": 5,
   "id": "7d9d2fa1-15b5-4966-a4c0-8f410c5ff15a",
   "metadata": {},
   "outputs": [
    {
     "data": {
      "text/plain": [
       "array(['cat.0.jpg', 'cat.1.jpg', 'cat.10.jpg', ..., 'dog.9997.jpg',\n",
       "       'dog.9998.jpg', 'dog.9999.jpg'], dtype='<U13')"
      ]
     },
     "execution_count": 5,
     "metadata": {},
     "output_type": "execute_result"
    }
   ],
   "source": [
    "np.unique(nameTest)"
   ]
  },
  {
   "cell_type": "code",
   "execution_count": 6,
   "id": "aa98feee-8acb-4692-b75b-150de2257be1",
   "metadata": {},
   "outputs": [],
   "source": [
    "image_width=150\n",
    "image_height=150"
   ]
  },
  {
   "cell_type": "code",
   "execution_count": 4,
   "id": "52f43e7a-732e-4be1-aeef-039ebe8b7d0e",
   "metadata": {},
   "outputs": [],
   "source": [
    "def imageFeatureExtract(image,size=(28,28)):\n",
    "    img=cv2.resize(image,size)\n",
    "    gray = cv2.cvtColor(img, cv2.COLOR_RGB2GRAY)\n",
    "    gray = np.expand_dims(gray, 2)#(28, 28, 1)\n",
    "    return gray"
   ]
  },
  {
   "cell_type": "code",
   "execution_count": 5,
   "id": "be4afbf4-85b6-4f8b-83ea-e51f4cea8c7d",
   "metadata": {},
   "outputs": [],
   "source": [
    "Datasetspath= r'C:\\Konika\\Deep neural Network\\DNN Course\\DNN_program\\Cats&Dogs\\train'\n",
    "datasetPath = os.path.join(Datasetspath, \"*g\")\n",
    "fileRead = glob.glob(datasetPath)\n",
    "\n",
    "data = []\n",
    "category_or_class = []\n",
    "\n",
    "for (i, file) in enumerate(fileRead):\n",
    "    image = cv2.imread(file)\n",
    "    feature = imageFeatureExtract(image)\n",
    "    data.append(feature)\n",
    "    classNames = file.split(os.path.sep)[-1].split(\".\")[0]\n",
    "    category_or_class.append(classNames)\n"
   ]
  },
  {
   "cell_type": "code",
   "execution_count": 6,
   "id": "52b2bce2-bdf3-4948-a324-8200a981bbbb",
   "metadata": {},
   "outputs": [],
   "source": [
    "#Dataset scalling\n",
    "data = np.array(data, dtype = np.uint8)\n",
    "labels = np.array(category_or_class)"
   ]
  },
  {
   "cell_type": "code",
   "execution_count": 94,
   "id": "702546ed-95b9-4bd4-8650-aecd1da3da5e",
   "metadata": {},
   "outputs": [
    {
     "data": {
      "text/plain": [
       "(25000, 28, 28, 1)"
      ]
     },
     "execution_count": 94,
     "metadata": {},
     "output_type": "execute_result"
    }
   ],
   "source": [
    "data.shape"
   ]
  },
  {
   "cell_type": "code",
   "execution_count": 143,
   "id": "0c9a203d-dc70-47be-b37c-dbfa34d2ebc0",
   "metadata": {},
   "outputs": [
    {
     "data": {
      "text/plain": [
       "array(['cat', 'dog'], dtype='<U3')"
      ]
     },
     "execution_count": 143,
     "metadata": {},
     "output_type": "execute_result"
    }
   ],
   "source": [
    "np.unique(category_or_class)"
   ]
  },
  {
   "cell_type": "code",
   "execution_count": 95,
   "id": "05497064-bfde-4e1e-a719-8b9f90e405aa",
   "metadata": {},
   "outputs": [
    {
     "data": {
      "text/plain": [
       "25000"
      ]
     },
     "execution_count": 95,
     "metadata": {},
     "output_type": "execute_result"
    }
   ],
   "source": [
    "len(data)"
   ]
  },
  {
   "cell_type": "code",
   "execution_count": 142,
   "id": "a4a60834-db4f-4218-867d-4deacb716953",
   "metadata": {},
   "outputs": [
    {
     "data": {
      "text/plain": [
       "array(['cat', 'cat', 'cat', ..., 'dog', 'dog', 'dog'], dtype='<U3')"
      ]
     },
     "execution_count": 142,
     "metadata": {},
     "output_type": "execute_result"
    }
   ],
   "source": [
    "labels"
   ]
  },
  {
   "cell_type": "code",
   "execution_count": 96,
   "id": "abd9fcbd-efc5-45ee-8aa8-74d8c9a7c3f8",
   "metadata": {},
   "outputs": [
    {
     "data": {
      "text/plain": [
       "25000"
      ]
     },
     "execution_count": 96,
     "metadata": {},
     "output_type": "execute_result"
    }
   ],
   "source": [
    "len(labels)"
   ]
  },
  {
   "cell_type": "code",
   "execution_count": 102,
   "id": "1a03e623-4055-4f8f-a0fc-7f3f00518a1f",
   "metadata": {},
   "outputs": [],
   "source": [
    "label_Encoder = LabelEncoder()\n",
    "#label_Encoder = preprocessing.LabelEncoder\n",
    "classNames = label_Encoder.fit_transform(labels)"
   ]
  },
  {
   "cell_type": "code",
   "execution_count": 103,
   "id": "85b95ed8-12f1-4958-85fa-a609e388df2e",
   "metadata": {},
   "outputs": [
    {
     "data": {
      "text/plain": [
       "array([0, 1], dtype=int64)"
      ]
     },
     "execution_count": 103,
     "metadata": {},
     "output_type": "execute_result"
    }
   ],
   "source": [
    "np.unique(classNames)"
   ]
  },
  {
   "cell_type": "code",
   "execution_count": 104,
   "id": "0035303e-dd5c-45a3-ac3f-3716a0ade15e",
   "metadata": {},
   "outputs": [
    {
     "data": {
      "text/plain": [
       "(25000,)"
      ]
     },
     "execution_count": 104,
     "metadata": {},
     "output_type": "execute_result"
    }
   ],
   "source": [
    "classNames.shape"
   ]
  },
  {
   "cell_type": "code",
   "execution_count": 141,
   "id": "c34dcdca-601e-46db-81de-0db654db7163",
   "metadata": {},
   "outputs": [
    {
     "data": {
      "text/plain": [
       "0"
      ]
     },
     "execution_count": 141,
     "metadata": {},
     "output_type": "execute_result"
    }
   ],
   "source": [
    "classNames[0]"
   ]
  },
  {
   "cell_type": "code",
   "execution_count": 111,
   "id": "812a503b-2e66-4203-9e00-c4e0e43c86a3",
   "metadata": {},
   "outputs": [],
   "source": [
    "#help(OneHotEncoder())"
   ]
  },
  {
   "cell_type": "code",
   "execution_count": 114,
   "id": "ae7dbdc4-b4b8-4e2d-ad16-f4f75e709504",
   "metadata": {},
   "outputs": [],
   "source": [
    "#OneHotEncoder\n",
    "labelEncoderValue=classNames.reshape(len(classNames),1)\n",
    "ohe=OneHotEncoder(sparse=False)\n",
    "oneHotValues=ohe.fit_transform(labelEncoderValue)\n"
   ]
  },
  {
   "cell_type": "code",
   "execution_count": 115,
   "id": "cf7f2de9-483b-477d-b738-914a83d1dc09",
   "metadata": {},
   "outputs": [
    {
     "data": {
      "text/plain": [
       "array([[1., 0.],\n",
       "       [1., 0.],\n",
       "       [1., 0.],\n",
       "       ...,\n",
       "       [0., 1.],\n",
       "       [0., 1.],\n",
       "       [0., 1.]])"
      ]
     },
     "execution_count": 115,
     "metadata": {},
     "output_type": "execute_result"
    }
   ],
   "source": [
    "oneHotValues"
   ]
  },
  {
   "cell_type": "code",
   "execution_count": 121,
   "id": "d0b06524-023f-4aa6-8236-c7a96474eff7",
   "metadata": {},
   "outputs": [],
   "source": [
    "#Traintest_split\n",
    "(Xtrain,xtest,Ytrain,ytest)=train_test_split(data,oneHotValues,test_size=0.2,random_state=42)"
   ]
  },
  {
   "cell_type": "code",
   "execution_count": 122,
   "id": "79079e9a-551b-467e-b741-b95eb2d5bc60",
   "metadata": {},
   "outputs": [
    {
     "data": {
      "text/plain": [
       "(20000, 28, 28, 1)"
      ]
     },
     "execution_count": 122,
     "metadata": {},
     "output_type": "execute_result"
    }
   ],
   "source": [
    "Xtrain.shape"
   ]
  },
  {
   "cell_type": "code",
   "execution_count": 123,
   "id": "aeb22afe-504e-404d-ba49-a55d2ced38dd",
   "metadata": {},
   "outputs": [
    {
     "data": {
      "text/plain": [
       "(5000, 28, 28, 1)"
      ]
     },
     "execution_count": 123,
     "metadata": {},
     "output_type": "execute_result"
    }
   ],
   "source": [
    "xtest.shape"
   ]
  },
  {
   "cell_type": "code",
   "execution_count": 124,
   "id": "4b74364b-2f35-4e2a-a6b0-9f1c58cde5da",
   "metadata": {},
   "outputs": [
    {
     "data": {
      "text/plain": [
       "(20000, 2)"
      ]
     },
     "execution_count": 124,
     "metadata": {},
     "output_type": "execute_result"
    }
   ],
   "source": [
    "Ytrain.shape"
   ]
  },
  {
   "cell_type": "code",
   "execution_count": 125,
   "id": "5eeac52a-3edf-4849-ad70-749ada0410e3",
   "metadata": {},
   "outputs": [
    {
     "data": {
      "text/plain": [
       "(5000, 2)"
      ]
     },
     "execution_count": 125,
     "metadata": {},
     "output_type": "execute_result"
    }
   ],
   "source": [
    "ytest.shape"
   ]
  },
  {
   "cell_type": "markdown",
   "id": "d5365903-bf1f-4fdf-aa14-2884aa5b2047",
   "metadata": {},
   "source": [
    "####Model "
   ]
  },
  {
   "cell_type": "code",
   "execution_count": 127,
   "id": "a2d8fe03-9f79-4424-ba6c-e4fc3a20d447",
   "metadata": {},
   "outputs": [],
   "source": [
    "model = Sequential() # Empty \n",
    "\n",
    "# 1st layer\n",
    "model.add(Conv2D(6,kernel_size = (5, 5), strides = (1, 1), activation = \"tanh\", input_shape = (28, 28, 1), padding = \"same\"))\n",
    "model.add(AveragePooling2D(pool_size = (2, 2), strides = (2, 2), padding = \"valid\"))\n",
    "\n",
    "# 2nd Layer\n",
    "model.add(Conv2D(16,kernel_size = (5, 5), strides = (1, 1), activation = \"tanh\", padding = \"valid\"))\n",
    "model.add(AveragePooling2D(pool_size = (2, 2), strides = (2, 2), padding = \"valid\"))\n",
    "\n",
    "# Flatten Layer\n",
    "model.add(Flatten())\n",
    "\n",
    "# Output Layer\n",
    "model.add(Dense(120, activation = \"tanh\"))\n",
    "model.add(Dense(84, activation = \"tanh\"))\n",
    "model.add(Dense(2, activation = \"softmax\"))"
   ]
  },
  {
   "cell_type": "code",
   "execution_count": 128,
   "id": "bf07d4b7-ab81-47da-914c-06ac35280143",
   "metadata": {},
   "outputs": [],
   "source": [
    "model.compile(optimizer = \"adam\",\n",
    "             loss = \"categorical_crossentropy\",\n",
    "             metrics = [\"accuracy\"])"
   ]
  },
  {
   "cell_type": "code",
   "execution_count": 129,
   "id": "fe463749-0bad-4570-9908-2496cd8349df",
   "metadata": {},
   "outputs": [
    {
     "name": "stdout",
     "output_type": "stream",
     "text": [
      "Model: \"sequential_1\"\n",
      "_________________________________________________________________\n",
      " Layer (type)                Output Shape              Param #   \n",
      "=================================================================\n",
      " conv2d_2 (Conv2D)           (None, 28, 28, 6)         156       \n",
      "                                                                 \n",
      " average_pooling2d_2 (Averag  (None, 14, 14, 6)        0         \n",
      " ePooling2D)                                                     \n",
      "                                                                 \n",
      " conv2d_3 (Conv2D)           (None, 10, 10, 16)        2416      \n",
      "                                                                 \n",
      " average_pooling2d_3 (Averag  (None, 5, 5, 16)         0         \n",
      " ePooling2D)                                                     \n",
      "                                                                 \n",
      " flatten_1 (Flatten)         (None, 400)               0         \n",
      "                                                                 \n",
      " dense_3 (Dense)             (None, 120)               48120     \n",
      "                                                                 \n",
      " dense_4 (Dense)             (None, 84)                10164     \n",
      "                                                                 \n",
      " dense_5 (Dense)             (None, 2)                 170       \n",
      "                                                                 \n",
      "=================================================================\n",
      "Total params: 61,026\n",
      "Trainable params: 61,026\n",
      "Non-trainable params: 0\n",
      "_________________________________________________________________\n"
     ]
    }
   ],
   "source": [
    "model.summary()"
   ]
  },
  {
   "cell_type": "code",
   "execution_count": 131,
   "id": "352933e7-65d1-407f-b145-4464ad28b256",
   "metadata": {},
   "outputs": [
    {
     "name": "stdout",
     "output_type": "stream",
     "text": [
      "Epoch 1/10\n",
      "625/625 [==============================] - 7s 10ms/step - loss: 0.6663 - accuracy: 0.5933 - val_loss: 0.6754 - val_accuracy: 0.5890\n",
      "Epoch 2/10\n",
      "625/625 [==============================] - 6s 10ms/step - loss: 0.6320 - accuracy: 0.6415 - val_loss: 0.6345 - val_accuracy: 0.6362\n",
      "Epoch 3/10\n",
      "625/625 [==============================] - 7s 10ms/step - loss: 0.6047 - accuracy: 0.6697 - val_loss: 0.6211 - val_accuracy: 0.6618\n",
      "Epoch 4/10\n",
      "625/625 [==============================] - 6s 10ms/step - loss: 0.5895 - accuracy: 0.6817 - val_loss: 0.6024 - val_accuracy: 0.6788\n",
      "Epoch 5/10\n",
      "625/625 [==============================] - 6s 10ms/step - loss: 0.5729 - accuracy: 0.6995 - val_loss: 0.5944 - val_accuracy: 0.6792\n",
      "Epoch 6/10\n",
      "625/625 [==============================] - 6s 9ms/step - loss: 0.5592 - accuracy: 0.7099 - val_loss: 0.5915 - val_accuracy: 0.6868\n",
      "Epoch 7/10\n",
      "625/625 [==============================] - 6s 9ms/step - loss: 0.5420 - accuracy: 0.7236 - val_loss: 0.6127 - val_accuracy: 0.6782\n",
      "Epoch 8/10\n",
      "625/625 [==============================] - 6s 9ms/step - loss: 0.5206 - accuracy: 0.7394 - val_loss: 0.6015 - val_accuracy: 0.6810\n",
      "Epoch 9/10\n",
      "625/625 [==============================] - 6s 9ms/step - loss: 0.5016 - accuracy: 0.7527 - val_loss: 0.6098 - val_accuracy: 0.6880\n",
      "Epoch 10/10\n",
      "625/625 [==============================] - 6s 9ms/step - loss: 0.4797 - accuracy: 0.7659 - val_loss: 0.6108 - val_accuracy: 0.6892\n"
     ]
    },
    {
     "data": {
      "text/plain": [
       "<keras.callbacks.History at 0x24cdb8bc208>"
      ]
     },
     "execution_count": 131,
     "metadata": {},
     "output_type": "execute_result"
    }
   ],
   "source": [
    "model.fit(Xtrain, Ytrain,\n",
    "          epochs = 10,\n",
    "          validation_data = (xtest, ytest), \n",
    "          verbose = 1)"
   ]
  },
  {
   "cell_type": "code",
   "execution_count": 132,
   "id": "320ef7c4-8f93-4567-9e07-9c0a3faecbe6",
   "metadata": {},
   "outputs": [],
   "source": [
    "model.save(\"Models/CatsAndDogs.h5\")"
   ]
  },
  {
   "cell_type": "code",
   "execution_count": 133,
   "id": "3e2bf444-4062-434c-880f-b4159c9396b4",
   "metadata": {},
   "outputs": [],
   "source": [
    "class_data = [\"cat\", \"dog\"]\n",
    "saveModelData = load_model(\"Models/CatsAndDogs.h5\")"
   ]
  },
  {
   "cell_type": "code",
   "execution_count": 135,
   "id": "85412668-1d5a-46bf-9c2e-bc7eb1b75e11",
   "metadata": {},
   "outputs": [],
   "source": [
    "testImageData = cv2.imread(r\"C:\\Users\\konik\\Downloads\\pexels-pixabay-45201.jpg\")\n",
    "testImageDataFeature = imageFeatureExtract(testImageData)/255.0\n",
    "testImageDataFeature = np.array([testImageDataFeature])"
   ]
  },
  {
   "cell_type": "code",
   "execution_count": 136,
   "id": "d2e495c5-22b9-48a1-a111-d6b6454aaf47",
   "metadata": {},
   "outputs": [
    {
     "data": {
      "text/plain": [
       "(1, 28, 28, 1)"
      ]
     },
     "execution_count": 136,
     "metadata": {},
     "output_type": "execute_result"
    }
   ],
   "source": [
    "testImageDataFeature.shape"
   ]
  },
  {
   "cell_type": "code",
   "execution_count": 137,
   "id": "e390f1cb-c913-4cd5-8e04-269f2a200670",
   "metadata": {},
   "outputs": [
    {
     "name": "stdout",
     "output_type": "stream",
     "text": [
      "1/1 [==============================] - 0s 103ms/step\n"
     ]
    }
   ],
   "source": [
    "predict = saveModelData.predict(testImageDataFeature)[0]"
   ]
  },
  {
   "cell_type": "code",
   "execution_count": 138,
   "id": "5b555d5b-95e9-4ebb-b2e8-9854699c4cdf",
   "metadata": {},
   "outputs": [
    {
     "name": "stdout",
     "output_type": "stream",
     "text": [
      "1/1 [==============================] - 0s 19ms/step\n"
     ]
    }
   ],
   "source": [
    "probability = saveModelData.predict(testImageDataFeature)"
   ]
  },
  {
   "cell_type": "code",
   "execution_count": 156,
   "id": "3f4d27e7-ff0c-4ee7-aace-4081ceadcb31",
   "metadata": {},
   "outputs": [
    {
     "data": {
      "text/plain": [
       "array([[0.610806  , 0.38919404]], dtype=float32)"
      ]
     },
     "execution_count": 156,
     "metadata": {},
     "output_type": "execute_result"
    }
   ],
   "source": [
    "probability"
   ]
  },
  {
   "cell_type": "code",
   "execution_count": 139,
   "id": "27ad0a6e-abb0-441d-888c-9e2090d2c1fe",
   "metadata": {},
   "outputs": [
    {
     "data": {
      "text/plain": [
       "0"
      ]
     },
     "execution_count": 139,
     "metadata": {},
     "output_type": "execute_result"
    }
   ],
   "source": [
    "probabilityMaximum = predict.argmax(axis = 0)\n",
    "probabilityMaximum"
   ]
  },
  {
   "cell_type": "code",
   "execution_count": 157,
   "id": "61572a49-0bc2-4b24-a95d-cc87ce812c3a",
   "metadata": {},
   "outputs": [
    {
     "data": {
      "image/png": "[encoded data removed]",
      "text/plain": [
       "<Figure size 432x288 with 1 Axes>"
      ]
     },
     "metadata": {
      "needs_background": "light"
     },
     "output_type": "display_data"
    }
   ],
   "source": [
    "imageDataLabels = \"{}: {:.2f}%\".format(class_data[probabilityMaximum], predict[probabilityMaximum]*100)\n",
    "cv2.putText(testImageData, imageDataLabels, (100, 35), cv2.FONT_HERSHEY_PLAIN, 2.0, (0, 255, 0), 3)\n",
    "\n",
    "plt.imshow(testImageData, cmap = \"gray\")\n",
    "plt.show()"
   ]
  },
  {
   "cell_type": "code",
   "execution_count": 144,
   "id": "12f160f0-6394-47df-a265-4eafe5869460",
   "metadata": {},
   "outputs": [],
   "source": [
    "#function \n",
    "\n",
    "class LeNet_Model(Sequential):\n",
    "    \n",
    "    def __init__(self, input_shape, number_class):\n",
    "        super().__init__()\n",
    "        \n",
    "        # 1st layer\n",
    "        self.add(Conv2D(6,kernel_size = (5, 5), strides = (1, 1), activation = \"tanh\", input_shape = input_shape, padding = \"same\"))\n",
    "        self.add(AveragePooling2D(pool_size = (2, 2), strides = (2, 2), padding = \"valid\"))\n",
    "\n",
    "        # 2nd Layer\n",
    "        self.add(Conv2D(16,kernel_size = (5, 5), strides = (1, 1), activation = \"tanh\", padding = \"valid\"))\n",
    "        self.add(AveragePooling2D(pool_size = (2, 2), strides = (2, 2), padding = \"valid\"))\n",
    "\n",
    "        # Flatten Layer\n",
    "        self.add(Flatten())\n",
    "\n",
    "        # Output Layer\n",
    "        self.add(Dense(120, activation = \"tanh\"))\n",
    "        self.add(Dense(84, activation = \"tanh\"))\n",
    "        self.add(Dense(number_class, activation = \"softmax\"))\n",
    "        \n",
    "        self.compile(optimizer = \"adam\",\n",
    "             loss = \"categorical_crossentropy\",\n",
    "             metrics = [\"accuracy\"])\n",
    "        "
   ]
  },
  {
   "cell_type": "code",
   "execution_count": 146,
   "id": "5e212648-c769-420d-844a-2cd1dc794c79",
   "metadata": {},
   "outputs": [
    {
     "data": {
      "text/plain": [
       "(28, 28, 1)"
      ]
     },
     "execution_count": 146,
     "metadata": {},
     "output_type": "execute_result"
    }
   ],
   "source": [
    "input_shapes = Xtrain[0].shape\n",
    "input_shapes"
   ]
  },
  {
   "cell_type": "code",
   "execution_count": 147,
   "id": "a6652815-1497-4ea7-988e-beb5dcb63fac",
   "metadata": {},
   "outputs": [
    {
     "data": {
      "text/plain": [
       "2"
      ]
     },
     "execution_count": 147,
     "metadata": {},
     "output_type": "execute_result"
    }
   ],
   "source": [
    "number_class=len(np.unique(labels))\n",
    "number_class"
   ]
  },
  {
   "cell_type": "code",
   "execution_count": 148,
   "id": "d68d03bf-e40f-4ff5-bc6f-5aa9a48d1ba8",
   "metadata": {},
   "outputs": [],
   "source": [
    "myModel = LeNet_Model(input_shapes, number_class)"
   ]
  },
  {
   "cell_type": "code",
   "execution_count": 149,
   "id": "56927c04-e219-43dc-96ff-3dd603adca15",
   "metadata": {},
   "outputs": [
    {
     "name": "stdout",
     "output_type": "stream",
     "text": [
      "Model: \"le_net__model\"\n",
      "_________________________________________________________________\n",
      " Layer (type)                Output Shape              Param #   \n",
      "=================================================================\n",
      " conv2d_4 (Conv2D)           (None, 28, 28, 6)         156       \n",
      "                                                                 \n",
      " average_pooling2d_4 (Averag  (None, 14, 14, 6)        0         \n",
      " ePooling2D)                                                     \n",
      "                                                                 \n",
      " conv2d_5 (Conv2D)           (None, 10, 10, 16)        2416      \n",
      "                                                                 \n",
      " average_pooling2d_5 (Averag  (None, 5, 5, 16)         0         \n",
      " ePooling2D)                                                     \n",
      "                                                                 \n",
      " flatten_2 (Flatten)         (None, 400)               0         \n",
      "                                                                 \n",
      " dense_6 (Dense)             (None, 120)               48120     \n",
      "                                                                 \n",
      " dense_7 (Dense)             (None, 84)                10164     \n",
      "                                                                 \n",
      " dense_8 (Dense)             (None, 2)                 170       \n",
      "                                                                 \n",
      "=================================================================\n",
      "Total params: 61,026\n",
      "Trainable params: 61,026\n",
      "Non-trainable params: 0\n",
      "_________________________________________________________________\n"
     ]
    }
   ],
   "source": [
    "myModel.summary()"
   ]
  },
  {
   "cell_type": "code",
   "execution_count": 150,
   "id": "85ab4c9f-72c9-4141-bbda-4bf1c1f0621d",
   "metadata": {},
   "outputs": [],
   "source": [
    "import datetime\n",
    "logsData = \"logs/fit/\" + datetime.datetime.now().strftime(\"%Y%m%d-%H%M%S\")\n",
    "callbacks = tf.keras.callbacks.TensorBoard(log_dir = logsData, histogram_freq = 1)"
   ]
  },
  {
   "cell_type": "code",
   "execution_count": 152,
   "id": "725541ca-7159-4918-be6d-fad77af52131",
   "metadata": {},
   "outputs": [
    {
     "name": "stdout",
     "output_type": "stream",
     "text": [
      "Epoch 1/10\n",
      "625/625 [==============================] - 4s 7ms/step - loss: 0.4594 - accuracy: 0.7807 - val_loss: 0.6260 - val_accuracy: 0.6888\n",
      "Epoch 2/10\n",
      "625/625 [==============================] - 4s 6ms/step - loss: 0.4341 - accuracy: 0.7998 - val_loss: 0.6467 - val_accuracy: 0.6826\n",
      "Epoch 3/10\n",
      "625/625 [==============================] - 4s 6ms/step - loss: 0.4110 - accuracy: 0.8102 - val_loss: 0.6345 - val_accuracy: 0.6930\n",
      "Epoch 4/10\n",
      "625/625 [==============================] - 4s 6ms/step - loss: 0.3823 - accuracy: 0.8296 - val_loss: 0.6610 - val_accuracy: 0.6886\n",
      "Epoch 5/10\n",
      "625/625 [==============================] - 4s 6ms/step - loss: 0.3556 - accuracy: 0.8420 - val_loss: 0.7292 - val_accuracy: 0.6728\n",
      "Epoch 6/10\n",
      "625/625 [==============================] - 4s 6ms/step - loss: 0.3312 - accuracy: 0.8560 - val_loss: 0.7034 - val_accuracy: 0.6768\n",
      "Epoch 7/10\n",
      "625/625 [==============================] - 4s 6ms/step - loss: 0.3005 - accuracy: 0.8732 - val_loss: 0.7713 - val_accuracy: 0.6702\n",
      "Epoch 8/10\n",
      "625/625 [==============================] - 4s 6ms/step - loss: 0.2661 - accuracy: 0.8909 - val_loss: 0.7952 - val_accuracy: 0.6752\n",
      "Epoch 9/10\n",
      "625/625 [==============================] - 4s 6ms/step - loss: 0.2505 - accuracy: 0.8992 - val_loss: 0.8223 - val_accuracy: 0.6622\n",
      "Epoch 10/10\n",
      "625/625 [==============================] - 4s 6ms/step - loss: 0.2275 - accuracy: 0.9086 - val_loss: 0.8359 - val_accuracy: 0.6772\n"
     ]
    }
   ],
   "source": [
    "history = model.fit(Xtrain, Ytrain,\n",
    "          epochs = 10,\n",
    "          validation_data = (xtest, ytest),\n",
    "          callbacks=[callbacks],\n",
    "          verbose = 1)"
   ]
  },
  {
   "cell_type": "code",
   "execution_count": 153,
   "id": "61d11381-919b-41c5-a064-52f9b45b64de",
   "metadata": {},
   "outputs": [],
   "source": [
    "#%load_ext tensorboard"
   ]
  },
  {
   "cell_type": "code",
   "execution_count": 155,
   "id": "b7a6781e-6712-4f98-881f-19abfae288c3",
   "metadata": {},
   "outputs": [],
   "source": [
    "#%tensorboard --logdir logs/fit"
   ]
  },
  {
   "cell_type": "code",
   "execution_count": null,
   "id": "f77b15c9-8be2-4d81-ad8e-be6df0920fd0",
   "metadata": {},
   "outputs": [],
   "source": []
  }
 ],
 "metadata": {
  "kernelspec": {
   "display_name": "Python 3 (ipykernel)",
   "language": "python",
   "name": "python3"
  },
  "language_info": {
   "codemirror_mode": {
    "name": "ipython",
    "version": 3
   },
   "file_extension": ".py",
   "mimetype": "text/x-python",
   "name": "python",
   "nbconvert_exporter": "python",
   "pygments_lexer": "ipython3",
   "version": "3.7.13"
  }
 },
 "nbformat": 4,
 "nbformat_minor": 5
}
