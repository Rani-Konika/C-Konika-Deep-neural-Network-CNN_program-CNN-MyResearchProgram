{
 "cells": [
  {
   "cell_type": "code",
   "execution_count": 25,
   "id": "8c5a90f2-a31d-48dd-b777-ff720dd41e7f",
   "metadata": {},
   "outputs": [],
   "source": [
    "import sys\n",
    "\n",
    "import re\n",
    "\n",
    "import glob\n",
    "\n",
    "import os\n",
    "\n",
    "import os.path\n",
    "\n",
    "import cv2\n",
    "\n",
    "import random\n",
    "\n",
    "import numpy as np\n",
    "\n",
    "import matplotlib\n",
    "\n",
    "import matplotlib.pyplot as plt\n",
    "\n",
    "import pandas as pd\n"
   ]
  },
  {
   "cell_type": "code",
   "execution_count": 26,
   "id": "f26c4a48-5862-459c-9e0a-73fa1b84b6b6",
   "metadata": {},
   "outputs": [],
   "source": [
    "def read_image(file_path):\n",
    "\n",
    "    image   = cv2.imread(file_path, cv2.IMREAD_COLOR) \n",
    "\n",
    "   \n",
    "    image = cv2.resize(image, (ROWS, COLS), interpolation = cv2.INTER_CUBIC)\n",
    "\n",
    "    return image\n"
   ]
  },
  {
   "cell_type": "code",
   "execution_count": 27,
   "id": "0dfc593e-2574-40f1-b8a3-5b649d1393ad",
   "metadata": {},
   "outputs": [],
   "source": [
    "def make_params(file_path):\n",
    "    \n",
    "    basename = os.path.basename(file_path)\n",
    "    file_number = int(re.sub(r'\\D','',basename))\n",
    "    laser_strength =file_number //30\n",
    "    \n",
    "    if 'Cu_' in basename :\n",
    "        df = pd.read_csv('soturon.csv')\n",
    "        df_Cu = df[df[\"material\"] == \"Cu\"]\n",
    "        Cu_array = df_Cu.to_numpy()\n",
    "        matparam = np.delete(Cu_array, 0, 1)\n",
    "    else :\n",
    "        print(file_path)\n",
    "\n",
    "    params = np.empty(0)\n",
    "    \n",
    "    \n",
    "    params = np.append(matparam, laser_strength)\n",
    "    \n",
    "    return params\n",
    "\n",
    "    "
   ]
  },
  {
   "cell_type": "code",
   "execution_count": 28,
   "id": "8108f6ed-5ee1-4ff1-8ed3-f0f946c40b89",
   "metadata": {},
   "outputs": [],
   "source": [
    "def preprocess(images):\n",
    "\n",
    "    count = len(images)\n",
    "\n",
    "    data = np.ndarray((count, ROWS, COLS, CHANNELS), dtype = np.uint8)\n",
    "\n",
    "\n",
    "\n",
    "    for i, image_file in enumerate(images):\n",
    "\n",
    "        image = read_image(image_file)\n",
    "    \n",
    "        image_rgb = cv2.cvtColor(image,cv2.COLOR_BGR2RGB)\n",
    "        \n",
    "        params = make_params(image_file)\n",
    "        \n",
    "        numar = np.empty([19, COLS, ROWS])\n",
    "        \n",
    "        for j in range(0, 19):\n",
    "            \n",
    "            numar[j] = np.full((COLS, ROWS), params[j])\n",
    "            \n",
    "       \n",
    "        image_rgb_b = np.concatenate([image_rgb.transpose(2, 0, 1), numar],axis=0)\n",
    "        \n",
    "        #image_rgb = np.append(image_rgb.T, np.array([numar]), axis=0)\n",
    "        \n",
    "        data[i] = image_rgb_b.T\n",
    "        \n",
    "    \n",
    "\n",
    "    data = data.astype('float32')\n",
    "\n",
    "    data = data/255.0\n",
    "\n",
    "\n",
    "\n",
    "    return data\n",
    "            \n",
    "        "
   ]
  },
  {
   "cell_type": "code",
   "execution_count": 29,
   "id": "becf34c3-db98-47f3-8087-b2da9e4b2df3",
   "metadata": {},
   "outputs": [],
   "source": [
    "#Deep Learning module\n",
    "\n",
    "import tensorflow \n",
    "from tensorflow.keras.preprocessing.image import ImageDataGenerator\n",
    "from tensorflow.keras.preprocessing.image import img_to_array, load_img\n",
    "from tensorflow.keras import layers, models, optimizers\n",
    "from tensorflow.keras import backend as K\n",
    "from tensorflow.keras.models import Sequential\n",
    "from tensorflow.keras.layers import Input, Conv2D, MaxPooling2D, Flatten, Dense, Dropout, Activation\n",
    "from tensorflow.keras.callbacks import Callback, EarlyStopping\n",
    "from tensorflow.keras import utils\n",
    "from tensorflow.keras.utils import to_categorical\n"
   ]
  },
  {
   "cell_type": "markdown",
   "id": "6c436de3-6fc6-4354-bef2-d65fada956f7",
   "metadata": {},
   "source": [
    "Model Initializer¶"
   ]
  },
  {
   "cell_type": "code",
   "execution_count": 30,
   "id": "7eb49f21-948f-452f-8f31-bf7170367a89",
   "metadata": {},
   "outputs": [],
   "source": [
    "def Material_model():\n",
    "\n",
    "\n",
    "\n",
    "    model = Sequential()\n",
    "\n",
    "    model.add(Conv2D(2, kernel_size=(5, 5), activation='relu', kernel_initializer='he_normal', input_shape=(ROWS, COLS, CHANNELS)))\n",
    "\n",
    "    model.add(MaxPooling2D(pool_size=(2, 2)))\n",
    "\n",
    "    model.add(Conv2D(64, kernel_size=(5, 5), activation='relu', kernel_initializer='he_normal'))\n",
    "\n",
    "    model.add(MaxPooling2D(pool_size=(2, 2)))\n",
    "\n",
    "    model.add(Flatten())\n",
    "\n",
    "    model.add(Dense(128, activation='relu', kernel_initializer='he_normal'))\n",
    "\n",
    "    model.add(Dropout(0.2))\n",
    "\n",
    "\n",
    "    model.add(Dense(2, kernel_initializer='he_normal'))\n",
    "\n",
    "    model.add(Dense(2, activation='softmax'))\n",
    "\n",
    "    model.summary()\n",
    "\n",
    "    model.compile(loss=objective, optimizer=optimizer, metrics=['accuracy'])\n",
    "    \n",
    "    return model"
   ]
  },
  {
   "cell_type": "code",
   "execution_count": 31,
   "id": "775cdd35-1b5d-4b83-9ff6-1de0f1b48251",
   "metadata": {},
   "outputs": [],
   "source": [
    "ROWS = 28\n",
    "\n",
    "COLS = 28\n",
    "\n",
    "CHANNELS = 22\n"
   ]
  },
  {
   "cell_type": "code",
   "execution_count": 32,
   "id": "b0cbea92-a311-4381-8fcc-ff94ecafad26",
   "metadata": {},
   "outputs": [],
   "source": [
    "train_inputdirectory ='CuDataset/TrainData'\n",
    "test_inputdirectory='CuDataset/TestData'\n"
   ]
  },
  {
   "cell_type": "code",
   "execution_count": 33,
   "id": "9fd05cf6-aafd-45d7-b6f1-ee9ba7575ff7",
   "metadata": {},
   "outputs": [],
   "source": [
    "Da_train = glob.glob(train_inputdirectory + \"/Damage/*.jpg\")\n",
    "\n",
    "Un_train = glob.glob(train_inputdirectory + \"/NotDamage/*.jpg\")\n",
    "\n",
    "\n",
    "train_images = Da_train + Un_train\n",
    "\n",
    "random.shuffle(train_images)"
   ]
  },
  {
   "cell_type": "code",
   "execution_count": 34,
   "id": "7d3cbb5e-7c74-4f76-8cb0-3b0abcf0e97a",
   "metadata": {},
   "outputs": [
    {
     "data": {
      "text/plain": [
       "4301"
      ]
     },
     "execution_count": 34,
     "metadata": {},
     "output_type": "execute_result"
    }
   ],
   "source": [
    "len(train_images)"
   ]
  },
  {
   "cell_type": "code",
   "execution_count": 35,
   "id": "cdb41833-01ba-4e9e-96ea-e8b7c3de2d6f",
   "metadata": {},
   "outputs": [],
   "source": [
    "train_labels = []\n",
    "\n",
    "for i in train_images:\n",
    "\n",
    "    if 'Da_' in i :\n",
    "\n",
    "        train_labels.append(0)\n",
    "\n",
    "    if 'NotDa_' in i :\n",
    "\n",
    "        train_labels.append(1)\n"
   ]
  },
  {
   "cell_type": "code",
   "execution_count": 36,
   "id": "f62af92d-d53f-41af-aa7b-1ef9ad014e37",
   "metadata": {},
   "outputs": [],
   "source": [
    "Da_test = glob.glob(test_inputdirectory + \"/Damage/*.jpg\")\n",
    "\n",
    "NotDa_test = glob.glob(test_inputdirectory + \"/NotDamage/*.jpg\")\n",
    "\n",
    "\n",
    "\n",
    "test_images = Da_test + NotDa_test\n",
    "\n",
    "random.shuffle(test_images)\n",
    "\n",
    "\n",
    "\n",
    "#正解ラベルのリスト作成\n",
    "\n",
    "test_labels = []\n",
    "\n",
    "for i in test_images:\n",
    "\n",
    "    if 'Da_' in i :\n",
    "\n",
    "        test_labels.append(0)\n",
    "\n",
    "    if 'NotDa_' in i :\n",
    "\n",
    "        test_labels.append(1)"
   ]
  },
  {
   "cell_type": "code",
   "execution_count": 37,
   "id": "40cab16f-8848-4917-93a7-b4b5b5ffc88c",
   "metadata": {},
   "outputs": [
    {
     "name": "stdout",
     "output_type": "stream",
     "text": [
      "CuDataset/TrainData/Damage\\Damage._22_8484142.jpg\n"
     ]
    },
    {
     "ename": "UnboundLocalError",
     "evalue": "local variable 'matparam' referenced before assignment",
     "output_type": "error",
     "traceback": [
      "\u001b[1;31m---------------------------------------------------------------------------\u001b[0m",
      "\u001b[1;31mUnboundLocalError\u001b[0m                         Traceback (most recent call last)",
      "Input \u001b[1;32mIn [37]\u001b[0m, in \u001b[0;36m<cell line: 1>\u001b[1;34m()\u001b[0m\n\u001b[1;32m----> 1\u001b[0m train_data \u001b[38;5;241m=\u001b[39m \u001b[43mpreprocess\u001b[49m\u001b[43m(\u001b[49m\u001b[43mtrain_images\u001b[49m\u001b[43m)\u001b[49m\n\u001b[0;32m      2\u001b[0m test_data\u001b[38;5;241m=\u001b[39mpreprocess(test_images)\n",
      "Input \u001b[1;32mIn [28]\u001b[0m, in \u001b[0;36mpreprocess\u001b[1;34m(images)\u001b[0m\n\u001b[0;32m     11\u001b[0m image \u001b[38;5;241m=\u001b[39m read_image(image_file)\n\u001b[0;32m     13\u001b[0m image_rgb \u001b[38;5;241m=\u001b[39m cv2\u001b[38;5;241m.\u001b[39mcvtColor(image,cv2\u001b[38;5;241m.\u001b[39mCOLOR_BGR2RGB)\n\u001b[1;32m---> 15\u001b[0m params \u001b[38;5;241m=\u001b[39m \u001b[43mmake_params\u001b[49m\u001b[43m(\u001b[49m\u001b[43mimage_file\u001b[49m\u001b[43m)\u001b[49m\n\u001b[0;32m     17\u001b[0m numar \u001b[38;5;241m=\u001b[39m np\u001b[38;5;241m.\u001b[39mempty([\u001b[38;5;241m19\u001b[39m, COLS, ROWS])\n\u001b[0;32m     19\u001b[0m \u001b[38;5;28;01mfor\u001b[39;00m j \u001b[38;5;129;01min\u001b[39;00m \u001b[38;5;28mrange\u001b[39m(\u001b[38;5;241m0\u001b[39m, \u001b[38;5;241m19\u001b[39m):\n",
      "Input \u001b[1;32mIn [27]\u001b[0m, in \u001b[0;36mmake_params\u001b[1;34m(file_path)\u001b[0m\n\u001b[0;32m     13\u001b[0m     \u001b[38;5;28mprint\u001b[39m(file_path)\n\u001b[0;32m     15\u001b[0m params \u001b[38;5;241m=\u001b[39m np\u001b[38;5;241m.\u001b[39mempty(\u001b[38;5;241m0\u001b[39m)\n\u001b[1;32m---> 18\u001b[0m params \u001b[38;5;241m=\u001b[39m np\u001b[38;5;241m.\u001b[39mappend(\u001b[43mmatparam\u001b[49m, laser_strength)\n\u001b[0;32m     20\u001b[0m \u001b[38;5;28;01mreturn\u001b[39;00m params\n",
      "\u001b[1;31mUnboundLocalError\u001b[0m: local variable 'matparam' referenced before assignment"
     ]
    }
   ],
   "source": [
    "train_data = preprocess(train_images)\n",
    "test_data=preprocess(test_images)"
   ]
  },
  {
   "cell_type": "code",
   "execution_count": null,
   "id": "8fa02eb1-f0f5-4f00-897f-468150ccdab7",
   "metadata": {},
   "outputs": [],
   "source": []
  }
 ],
 "metadata": {
  "kernelspec": {
   "display_name": "Python 3 (ipykernel)",
   "language": "python",
   "name": "python3"
  },
  "language_info": {
   "codemirror_mode": {
    "name": "ipython",
    "version": 3
   },
   "file_extension": ".py",
   "mimetype": "text/x-python",
   "name": "python",
   "nbconvert_exporter": "python",
   "pygments_lexer": "ipython3",
   "version": "3.7.13"
  }
 },
 "nbformat": 4,
 "nbformat_minor": 5
}
