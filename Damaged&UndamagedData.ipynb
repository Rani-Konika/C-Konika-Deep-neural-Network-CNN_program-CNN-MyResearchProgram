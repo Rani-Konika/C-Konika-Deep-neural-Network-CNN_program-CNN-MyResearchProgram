{
 "cells": [
  {
   "cell_type": "code",
   "execution_count": 1,
   "id": "56b9e03c",
   "metadata": {},
   "outputs": [],
   "source": [
    "import sys\n",
    "\n",
    "import re\n",
    "\n",
    "import glob\n",
    "\n",
    "import os\n",
    "\n",
    "import os.path\n",
    "\n",
    "import cv2\n",
    "\n",
    "import random\n",
    "\n",
    "import numpy as np\n",
    "\n",
    "import matplotlib\n",
    "\n",
    "import matplotlib.pyplot as plt\n",
    "\n",
    "import pandas as pd\n"
   ]
  },
  {
   "cell_type": "code",
   "execution_count": 2,
   "id": "22bfc9e0",
   "metadata": {},
   "outputs": [],
   "source": [
    "def read_image(file_path):\n",
    "\n",
    "    image   = cv2.imread(file_path, cv2.IMREAD_COLOR) \n",
    "\n",
    "   \n",
    "    image = cv2.resize(image, (ROWS, COLS), interpolation = cv2.INTER_CUBIC)\n",
    "\n",
    "    return image\n"
   ]
  },
  {
   "cell_type": "code",
   "execution_count": 3,
   "id": "31475771",
   "metadata": {},
   "outputs": [
    {
     "ename": "SyntaxError",
     "evalue": "(unicode error) 'unicodeescape' codec can't decode bytes in position 66-67: malformed \\N character escape (816026555.py, line 63)",
     "output_type": "error",
     "traceback": [
      "\u001b[1;36m  File \u001b[1;32m\"C:\\Users\\konik\\AppData\\Local\\Temp\\ipykernel_16772\\816026555.py\"\u001b[1;36m, line \u001b[1;32m63\u001b[0m\n\u001b[1;33m    df = pd.read_csv(\"C:\\Konika\\Konika Research\\Program\\ExperimentalMaterial\\Sample data\\Narai san\\materials\\soturon.csv\")\u001b[0m\n\u001b[1;37m                    ^\u001b[0m\n\u001b[1;31mSyntaxError\u001b[0m\u001b[1;31m:\u001b[0m (unicode error) 'unicodeescape' codec can't decode bytes in position 66-67: malformed \\N character escape\n"
     ]
    }
   ],
   "source": [
    "\n",
    "\n",
    "def make_params(file_path):\n",
    "    \n",
    "    basename = os.path.basename(file_path)\n",
    "    file_number = int(re.sub(r'\\D','',basename))\n",
    "    laser_strength =file_number //30\n",
    "    \n",
    "    if 'Al_' in basename :\n",
    "        df = pd.read_csv(')\n",
    "        df_Al = df[df[\"material\"] == \"Al\"]\n",
    "        Al_array = df_Al.to_numpy()\n",
    "        matparam = np.delete(Al_array, 0, 1)\n",
    "    elif 'Cu_' in basename :\n",
    "        df = pd.read_csv('C:\\Konika\\Konika Research\\Program\\ExperimentalMaterial\\Sample data\\Narai san\\materials\\soturon.csv')\n",
    "        df_Cu = df[df[\"material\"] == \"Cu\"]\n",
    "        Cu_array = df_Cu.to_numpy()\n",
    "        matparam = np.delete(Cu_array, 0, 1)\n",
    "    elif 'Fe_' in basename :\n",
    "        df = pd.read_csv(\"C:\\Konika\\Konika Research\\Program\\ExperimentalMaterial\\Sample data\\Narai san\\materials\\soturon.csv\")\n",
    "        df_Fe = df[df[\"material\"] == \"Fe\"]\n",
    "        Fe_array = df_Fe.to_numpy()\n",
    "        matparam = np.delete(Fe_array, 0, 1)\n",
    "    elif 'Ti_' in basename :\n",
    "        df = pd.read_csv(\"C:\\Konika\\Konika Research\\Program\\ExperimentalMaterial\\Sample data\\Narai san\\materials\\soturon.csv\")\n",
    "        df_Ti = df[df[\"material\"] == \"Ti\"]\n",
    "        Ti_array = df_Ti.to_numpy()\n",
    "        matparam = np.delete(Ti_array, 0, 1)\n",
    "    elif 'Ni_' in basename :\n",
    "        df = pd.read_csv(\"C:\\Konika\\Konika Research\\Program\\ExperimentalMaterial\\Sample data\\Narai san\\materials\\soturon.csv\")\n",
    "        df_Ni = df[df[\"material\"] == \"Ni\"]\n",
    "        Ni_array = df_Ni.to_numpy()\n",
    "        matparam = np.delete(Ni_array, 0, 1)\n",
    "    elif 'Zn_' in basename :\n",
    "        df = pd.read_csv(\"C:\\Konika\\Konika Research\\Program\\ExperimentalMaterial\\Sample data\\Narai san\\materials\\soturon.csv\")\n",
    "        df_Zn = df[df[\"material\"] == \"Zn\"]\n",
    "        Zn_array = df_Zn.to_numpy()\n",
    "        matparam = np.delete(Zn_array, 0, 1)\n",
    "    elif 'Zr_' in basename :\n",
    "        df = pd.read_csv(\"C:\\Konika\\Konika Research\\Program\\ExperimentalMaterial\\Sample data\\Narai san\\materials\\soturon.csv\")\n",
    "        df_Zr = df[df[\"material\"] == \"Zr\"]\n",
    "        Zr_array = df_Zr.to_numpy()\n",
    "        matparam = np.delete(Zr_array, 0, 1)\n",
    "    elif 'Nb_' in basename :\n",
    "        df = pd.read_csv(\"C:\\Konika\\Konika Research\\Program\\ExperimentalMaterial\\Sample data\\Narai san\\materials\\soturon.csv\")\n",
    "        df_Nb = df[df[\"material\"] == \"Nb\"]\n",
    "        Nb_array = df_Nb.to_numpy()\n",
    "        matparam = np.delete(Nb_array, 0, 1)\n",
    "    elif 'Mo_' in basename :\n",
    "        df = pd.read_csv(\"C:\\Konika\\Konika Research\\Program\\ExperimentalMaterial\\Sample data\\Narai san\\materials\\soturon.csv\")\n",
    "        df_Mo = df[df[\"material\"] == \"Mo\"]\n",
    "        Mo_array = df_Mo.to_numpy()\n",
    "        matparam = np.delete(Mo_array, 0, 1)\n",
    "    elif 'Ag_' in basename :\n",
    "        df = pd.read_csv(\"C:\\Konika\\Konika Research\\Program\\ExperimentalMaterial\\Sample data\\Narai san\\materials\\soturon.csv\")\n",
    "        df_Ag = df[df[\"material\"] == \"Ag\"]\n",
    "        Ag_array = df_Ag.to_numpy()\n",
    "        matparam = np.delete(Ag_array, 0, 1)\n",
    "    elif 'Sn_' in basename :\n",
    "        df = pd.read_csv(\"C:\\Konika\\Konika Research\\Program\\ExperimentalMaterial\\Sample data\\Narai san\\materials\\soturon.csv\")\n",
    "        df_Sn = df[df[\"material\"] == \"Sn\"]\n",
    "        Sn_array = df_Sn.to_numpy()\n",
    "        matparam = np.delete(Sn_array, 0, 1)\n",
    "    elif 'Pb_' in basename :\n",
    "        df = pd.read_csv(\"C:\\Konika\\Konika Research\\Program\\ExperimentalMaterial\\Sample data\\Narai san\\materials\\soturon.csv\")\n",
    "        df_Pd = df[df[\"material\"] == \"Pb\"]\n",
    "        Pd_array = df_Pd.to_numpy()\n",
    "        matparam = np.delete(Pd_array, 0, 1)\n",
    "    else :\n",
    "        print(file_path)\n",
    "    \n",
    "    params = np.empty(0)\n",
    "    \n",
    "    \n",
    "    params = np.append(matparam, laser_strength)\n",
    "    \n",
    "    return params\n"
   ]
  },
  {
   "cell_type": "code",
   "execution_count": 5,
   "id": "8d4107a1",
   "metadata": {},
   "outputs": [],
   "source": [
    "def preprocess(images):\n",
    "\n",
    "    count = len(images)\n",
    "\n",
    "    data = np.ndarray((count, ROWS, COLS, CHANNELS), dtype = np.uint8)\n",
    "\n",
    "\n",
    "\n",
    "    for i, image_file in enumerate(images):\n",
    "\n",
    "        image = read_image(image_file)\n",
    "    \n",
    "        image_rgb = cv2.cvtColor(image,cv2.COLOR_BGR2RGB)\n",
    "        \n",
    "        params = make_params(image_file)\n",
    "        \n",
    "        numar = np.empty([16, COLS, ROWS])\n",
    "        \n",
    "        for j in range(0, 16):\n",
    "            \n",
    "            numar[j] = np.full((COLS, ROWS), params[j])\n",
    "        \n",
    "        \n",
    "       \n",
    "        image_rgb_b = np.concatenate([image_rgb.transpose(2, 0, 1), numar],axis=0)\n",
    "        \n",
    "        #image_rgb = np.append(image_rgb.T, np.array([numar]), axis=0)\n",
    "        \n",
    "        data[i] = image_rgb_b.T\n",
    "        \n",
    "    \n",
    "\n",
    "    data = data.astype('float32')\n",
    "\n",
    "    data = data/255.0\n",
    "\n",
    "\n",
    "\n",
    "    return data\n"
   ]
  },
  {
   "cell_type": "markdown",
   "id": "79989a34",
   "metadata": {},
   "source": [
    "# Import Library for CNN"
   ]
  },
  {
   "cell_type": "code",
   "execution_count": 6,
   "id": "9b8c9c8d",
   "metadata": {},
   "outputs": [],
   "source": [
    "import tensorflow \n",
    "from tensorflow.keras.preprocessing.image import ImageDataGenerator\n",
    "from tensorflow.keras.preprocessing.image import img_to_array, load_img\n",
    "from tensorflow.keras import layers, models, optimizers\n",
    "from tensorflow.keras import backend as K\n",
    "from tensorflow.keras.models import Sequential\n",
    "from tensorflow.keras.layers import Input, Conv2D, MaxPooling2D, Flatten, Dense, Dropout, Activation\n",
    "from tensorflow.keras.callbacks import Callback, EarlyStopping\n",
    "from tensorflow.keras import utils\n",
    "from tensorflow.keras.utils import to_categorical\n"
   ]
  },
  {
   "cell_type": "markdown",
   "id": "44da9d1e",
   "metadata": {},
   "source": [
    "# Model Initializer"
   ]
  },
  {
   "cell_type": "code",
   "execution_count": 7,
   "id": "9bc1edbb",
   "metadata": {},
   "outputs": [],
   "source": [
    "def Material_model():\n",
    "\n",
    "\n",
    "\n",
    "    model = Sequential()\n",
    "\n",
    "    model.add(Conv2D(2, kernel_size=(5, 5), activation='relu', kernel_initializer='he_normal', input_shape=(ROWS, COLS, CHANNELS)))\n",
    "\n",
    "    model.add(MaxPooling2D(pool_size=(2, 2)))\n",
    "\n",
    "    model.add(Conv2D(64, kernel_size=(5, 5), activation='relu', kernel_initializer='he_normal'))\n",
    "\n",
    "    model.add(MaxPooling2D(pool_size=(2, 2)))\n",
    "\n",
    "    model.add(Flatten())\n",
    "\n",
    "    model.add(Dense(128, activation='relu', kernel_initializer='he_normal'))\n",
    "\n",
    "    model.add(Dropout(0.2))\n",
    "\n",
    "\n",
    "    model.add(Dense(2, kernel_initializer='he_normal'))\n",
    "\n",
    "    model.add(Dense(2, activation='softmax'))\n",
    "\n",
    "    model.summary()\n",
    "\n",
    "    model.compile(loss=objective, optimizer=optimizer, metrics=['accuracy'])\n",
    "\n",
    "\n",
    "\n",
    "    return model\n",
    "\n"
   ]
  },
  {
   "cell_type": "code",
   "execution_count": 8,
   "id": "09dc822c",
   "metadata": {},
   "outputs": [],
   "source": [
    "ROWS = 42\n",
    "\n",
    "COLS = 72\n",
    "\n",
    "CHANNELS = 19\n",
    "\n",
    "\n",
    "train_inputdirectory =r'C:\\Users\\konik\\OneDrive\\Desktop\\Konika Research\\Narai san\\materials\\train'\n",
    "\n",
    "test_inputdirectory = r'C:\\Users\\konik\\OneDrive\\Desktop\\Konika Research\\Narai san\\materials\\test'\n",
    "\n",
    "\n"
   ]
  },
  {
   "cell_type": "code",
   "execution_count": 9,
   "id": "409e47e7",
   "metadata": {},
   "outputs": [],
   "source": [
    "Da_train = glob.glob(train_inputdirectory + \"/Damaged/*.jpg\")\n",
    "\n",
    "Un_train = glob.glob(train_inputdirectory + \"/Undamaged/*.jpg\")\n",
    "\n",
    "\n",
    "train_images = Da_train + Un_train\n",
    "\n",
    "random.shuffle(train_images)"
   ]
  },
  {
   "cell_type": "code",
   "execution_count": 27,
   "id": "2f7dad63",
   "metadata": {},
   "outputs": [
    {
     "data": {
      "text/plain": [
       "9000"
      ]
     },
     "execution_count": 27,
     "metadata": {},
     "output_type": "execute_result"
    }
   ],
   "source": [
    "len(train_images)"
   ]
  },
  {
   "cell_type": "code",
   "execution_count": 10,
   "id": "a94ff38f",
   "metadata": {},
   "outputs": [],
   "source": [
    "train_labels = []\n",
    "\n",
    "for i in train_images:\n",
    "\n",
    "    if 'Da_' in i :\n",
    "\n",
    "        train_labels.append(0)\n",
    "\n",
    "    if 'Un_' in i :\n",
    "\n",
    "        train_labels.append(1)\n"
   ]
  },
  {
   "cell_type": "code",
   "execution_count": 11,
   "id": "ffc76752",
   "metadata": {},
   "outputs": [],
   "source": [
    "Da_test = glob.glob(test_inputdirectory + \"/Damaged/*.jpg\")\n",
    "\n",
    "Un_test = glob.glob(test_inputdirectory + \"/Undamaged/*.jpg\")\n",
    "\n",
    "\n",
    "\n",
    "test_images = Da_test + Un_test\n",
    "\n",
    "random.shuffle(test_images)\n",
    "\n",
    "\n",
    "\n",
    "#正解ラベルのリスト作成\n",
    "\n",
    "test_labels = []\n",
    "\n",
    "for i in test_images:\n",
    "\n",
    "    if 'Da_' in i :\n",
    "\n",
    "        test_labels.append(0)\n",
    "\n",
    "    if 'Un_' in i :\n",
    "\n",
    "        test_labels.append(1)\n",
    "\n"
   ]
  },
  {
   "cell_type": "code",
   "execution_count": 2,
   "id": "db13544d",
   "metadata": {},
   "outputs": [],
   "source": [
    "#test_images"
   ]
  },
  {
   "cell_type": "code",
   "execution_count": 12,
   "id": "d17167bd",
   "metadata": {},
   "outputs": [],
   "source": [
    "train_data = preprocess(train_images)\n",
    "\n",
    "test_data = preprocess(test_images)"
   ]
  },
  {
   "cell_type": "code",
   "execution_count": 29,
   "id": "3c03b039",
   "metadata": {},
   "outputs": [
    {
     "data": {
      "text/plain": [
       "(9000, 42, 72, 19)"
      ]
     },
     "execution_count": 29,
     "metadata": {},
     "output_type": "execute_result"
    }
   ],
   "source": [
    "train_data.shape"
   ]
  },
  {
   "cell_type": "code",
   "execution_count": 1,
   "id": "cadf6f2d",
   "metadata": {},
   "outputs": [],
   "source": [
    "#for i in range(len(test_images)):\n",
    "\n",
    " #   print(test_images[i])\n",
    "\n",
    " #   print(test_labels[i])\n"
   ]
  },
  {
   "cell_type": "code",
   "execution_count": 14,
   "id": "856a390b",
   "metadata": {},
   "outputs": [],
   "source": [
    "#One hot Encoder\n",
    "train_labels = utils.to_categorical(train_labels,2)\n",
    "\n",
    "test_labels = utils.to_categorical(test_labels,2)\n"
   ]
  },
  {
   "cell_type": "code",
   "execution_count": 15,
   "id": "4fce7120",
   "metadata": {},
   "outputs": [
    {
     "name": "stdout",
     "output_type": "stream",
     "text": [
      "Model: \"sequential\"\n",
      "_________________________________________________________________\n",
      " Layer (type)                Output Shape              Param #   \n",
      "=================================================================\n",
      " conv2d (Conv2D)             (None, 38, 68, 2)         952       \n",
      "                                                                 \n",
      " max_pooling2d (MaxPooling2D  (None, 19, 34, 2)        0         \n",
      " )                                                               \n",
      "                                                                 \n",
      " conv2d_1 (Conv2D)           (None, 15, 30, 64)        3264      \n",
      "                                                                 \n",
      " max_pooling2d_1 (MaxPooling  (None, 7, 15, 64)        0         \n",
      " 2D)                                                             \n",
      "                                                                 \n",
      " flatten (Flatten)           (None, 6720)              0         \n",
      "                                                                 \n",
      " dense (Dense)               (None, 128)               860288    \n",
      "                                                                 \n",
      " dropout (Dropout)           (None, 128)               0         \n",
      "                                                                 \n",
      " dense_1 (Dense)             (None, 2)                 258       \n",
      "                                                                 \n",
      " dense_2 (Dense)             (None, 2)                 6         \n",
      "                                                                 \n",
      "=================================================================\n",
      "Total params: 864,768\n",
      "Trainable params: 864,768\n",
      "Non-trainable params: 0\n",
      "_________________________________________________________________\n"
     ]
    }
   ],
   "source": [
    "optimizer = 'adam'\n",
    "\n",
    "objective = 'categorical_crossentropy'\n",
    "\n",
    "model = Material_model()\n"
   ]
  },
  {
   "cell_type": "code",
   "execution_count": 16,
   "id": "c308b04d",
   "metadata": {},
   "outputs": [
    {
     "name": "stdout",
     "output_type": "stream",
     "text": [
      "Epoch 1/50\n",
      "48/48 [==============================] - 10s 202ms/step - loss: 0.6339 - accuracy: 0.6338 - val_loss: 0.4795 - val_accuracy: 0.7894\n",
      "Epoch 2/50\n",
      "48/48 [==============================] - 10s 216ms/step - loss: 0.3744 - accuracy: 0.8957 - val_loss: 0.3480 - val_accuracy: 0.9072\n",
      "Epoch 3/50\n",
      "48/48 [==============================] - 10s 201ms/step - loss: 0.3193 - accuracy: 0.9221 - val_loss: 0.2981 - val_accuracy: 0.9272\n",
      "Epoch 4/50\n",
      "48/48 [==============================] - 10s 200ms/step - loss: 0.2887 - accuracy: 0.9250 - val_loss: 0.2721 - val_accuracy: 0.9256\n",
      "Epoch 5/50\n",
      "48/48 [==============================] - 10s 213ms/step - loss: 0.2195 - accuracy: 0.9557 - val_loss: 0.1865 - val_accuracy: 0.9656\n",
      "Epoch 6/50\n",
      "48/48 [==============================] - 11s 232ms/step - loss: 0.1681 - accuracy: 0.9685 - val_loss: 0.1542 - val_accuracy: 0.9633\n",
      "Epoch 7/50\n",
      "48/48 [==============================] - 10s 215ms/step - loss: 0.1467 - accuracy: 0.9624 - val_loss: 0.1267 - val_accuracy: 0.9672\n",
      "Epoch 8/50\n",
      "48/48 [==============================] - 11s 222ms/step - loss: 0.1248 - accuracy: 0.9658 - val_loss: 0.1304 - val_accuracy: 0.9539\n",
      "Epoch 9/50\n",
      "48/48 [==============================] - 11s 236ms/step - loss: 0.1224 - accuracy: 0.9592 - val_loss: 0.1110 - val_accuracy: 0.9650\n",
      "Epoch 10/50\n",
      "48/48 [==============================] - 11s 235ms/step - loss: 0.0912 - accuracy: 0.9721 - val_loss: 0.0909 - val_accuracy: 0.9683\n",
      "Epoch 11/50\n",
      "48/48 [==============================] - 12s 240ms/step - loss: 0.0926 - accuracy: 0.9685 - val_loss: 0.0927 - val_accuracy: 0.9633\n",
      "Epoch 12/50\n",
      "48/48 [==============================] - 11s 233ms/step - loss: 0.0810 - accuracy: 0.9726 - val_loss: 0.0845 - val_accuracy: 0.9672\n",
      "Epoch 13/50\n",
      "48/48 [==============================] - 11s 231ms/step - loss: 0.0839 - accuracy: 0.9692 - val_loss: 0.0765 - val_accuracy: 0.9694\n",
      "Epoch 14/50\n",
      "48/48 [==============================] - 11s 222ms/step - loss: 0.0808 - accuracy: 0.9682 - val_loss: 0.1784 - val_accuracy: 0.9206\n",
      "Epoch 15/50\n",
      "48/48 [==============================] - 10s 218ms/step - loss: 0.0818 - accuracy: 0.9681 - val_loss: 0.0747 - val_accuracy: 0.9678\n",
      "Epoch 16/50\n",
      "48/48 [==============================] - 11s 229ms/step - loss: 0.0669 - accuracy: 0.9749 - val_loss: 0.0698 - val_accuracy: 0.9700\n",
      "Epoch 17/50\n",
      "48/48 [==============================] - 12s 248ms/step - loss: 0.0566 - accuracy: 0.9786 - val_loss: 0.0720 - val_accuracy: 0.9694\n",
      "Epoch 18/50\n",
      "48/48 [==============================] - 11s 226ms/step - loss: 0.0510 - accuracy: 0.9829 - val_loss: 0.0692 - val_accuracy: 0.9706\n",
      "Epoch 19/50\n",
      "48/48 [==============================] - 11s 228ms/step - loss: 0.0557 - accuracy: 0.9781 - val_loss: 0.0650 - val_accuracy: 0.9722\n",
      "Epoch 20/50\n",
      "48/48 [==============================] - 11s 225ms/step - loss: 0.0548 - accuracy: 0.9776 - val_loss: 0.0675 - val_accuracy: 0.9722\n",
      "Epoch 21/50\n",
      "48/48 [==============================] - 12s 241ms/step - loss: 0.0610 - accuracy: 0.9776 - val_loss: 0.0883 - val_accuracy: 0.9561\n",
      "Epoch 22/50\n",
      "48/48 [==============================] - 11s 226ms/step - loss: 0.0789 - accuracy: 0.9653 - val_loss: 0.1465 - val_accuracy: 0.9350\n",
      "Epoch 23/50\n",
      "48/48 [==============================] - 11s 229ms/step - loss: 0.0561 - accuracy: 0.9787 - val_loss: 0.1481 - val_accuracy: 0.9372\n",
      "Epoch 24/50\n",
      "48/48 [==============================] - 11s 238ms/step - loss: 0.0570 - accuracy: 0.9772 - val_loss: 0.1513 - val_accuracy: 0.9417\n",
      "Epoch 25/50\n",
      "48/48 [==============================] - 11s 236ms/step - loss: 0.0973 - accuracy: 0.9582 - val_loss: 0.1196 - val_accuracy: 0.9561\n",
      "Epoch 26/50\n",
      "48/48 [==============================] - 11s 225ms/step - loss: 0.0902 - accuracy: 0.9649 - val_loss: 0.0837 - val_accuracy: 0.9639\n",
      "Epoch 27/50\n",
      "48/48 [==============================] - 12s 256ms/step - loss: 0.0464 - accuracy: 0.9824 - val_loss: 0.0657 - val_accuracy: 0.9728\n",
      "Epoch 28/50\n",
      "48/48 [==============================] - 13s 279ms/step - loss: 0.0411 - accuracy: 0.9856 - val_loss: 0.0609 - val_accuracy: 0.9733\n",
      "Epoch 29/50\n",
      "48/48 [==============================] - 11s 223ms/step - loss: 0.0371 - accuracy: 0.9874 - val_loss: 0.0948 - val_accuracy: 0.9600\n",
      "Epoch 30/50\n",
      "48/48 [==============================] - 10s 216ms/step - loss: 0.0388 - accuracy: 0.9865 - val_loss: 0.0877 - val_accuracy: 0.9600\n",
      "Epoch 31/50\n",
      "48/48 [==============================] - 10s 218ms/step - loss: 0.0373 - accuracy: 0.9853 - val_loss: 0.1015 - val_accuracy: 0.9572\n",
      "Epoch 32/50\n",
      "48/48 [==============================] - 11s 239ms/step - loss: 0.0477 - accuracy: 0.9797 - val_loss: 0.1128 - val_accuracy: 0.9539\n",
      "Epoch 33/50\n",
      "48/48 [==============================] - 11s 224ms/step - loss: 0.0502 - accuracy: 0.9785 - val_loss: 0.0782 - val_accuracy: 0.9633\n",
      "Epoch 34/50\n",
      "48/48 [==============================] - 10s 217ms/step - loss: 0.0319 - accuracy: 0.9887 - val_loss: 0.0948 - val_accuracy: 0.9611\n",
      "Epoch 35/50\n",
      "48/48 [==============================] - 11s 229ms/step - loss: 0.0318 - accuracy: 0.9872 - val_loss: 0.0689 - val_accuracy: 0.9744\n",
      "Epoch 36/50\n",
      "48/48 [==============================] - 10s 216ms/step - loss: 0.0391 - accuracy: 0.9853 - val_loss: 0.0819 - val_accuracy: 0.9678\n",
      "Epoch 37/50\n",
      "48/48 [==============================] - 11s 239ms/step - loss: 0.0474 - accuracy: 0.9842 - val_loss: 0.1283 - val_accuracy: 0.9461\n",
      "Epoch 38/50\n",
      "48/48 [==============================] - 11s 222ms/step - loss: 0.0316 - accuracy: 0.9869 - val_loss: 0.0698 - val_accuracy: 0.9728\n",
      "Epoch 38: early stopping\n"
     ]
    }
   ],
   "source": [
    "\n",
    "\n",
    "epochs = 50\n",
    "\n",
    "batch_size = 150\n",
    "\n",
    "\n",
    "\n",
    "early_stopping = EarlyStopping(monitor='val_loss', patience=10, verbose=1, mode='auto')\n",
    "\n",
    "\n",
    "history = model.fit(train_data, train_labels, batch_size=batch_size, epochs=epochs, validation_split=0.2, verbose=1, shuffle=True, callbacks=[early_stopping])\n"
   ]
  },
  {
   "cell_type": "code",
   "execution_count": 17,
   "id": "e2ab990d",
   "metadata": {},
   "outputs": [
    {
     "name": "stdout",
     "output_type": "stream",
     "text": [
      "141/141 [==============================] - 2s 17ms/step\n"
     ]
    }
   ],
   "source": [
    "predictions = model.predict(test_data, verbose=1)\n"
   ]
  },
  {
   "cell_type": "code",
   "execution_count": 18,
   "id": "741dce49",
   "metadata": {},
   "outputs": [
    {
     "data": {
      "text/plain": [
       "array([[9.9987674e-01, 1.2329097e-04],\n",
       "       [9.6970587e-04, 9.9903035e-01],\n",
       "       [1.0000000e+00, 3.2638789e-27],\n",
       "       ...,\n",
       "       [9.9999976e-01, 2.8677476e-07],\n",
       "       [9.9480009e-01, 5.1998752e-03],\n",
       "       [9.9998736e-01, 1.2615389e-05]], dtype=float32)"
      ]
     },
     "execution_count": 18,
     "metadata": {},
     "output_type": "execute_result"
    }
   ],
   "source": [
    "predictions"
   ]
  },
  {
   "cell_type": "code",
   "execution_count": 20,
   "id": "62d2d517",
   "metadata": {},
   "outputs": [
    {
     "name": "stdout",
     "output_type": "stream",
     "text": [
      "141/141 [==============================] - 2s 16ms/step - loss: 3.7703 - accuracy: 0.7322\n",
      "Test loss: 3.7702724933624268\n",
      "Test accuracy: 0.7322221994400024\n"
     ]
    }
   ],
   "source": [
    "score = model.evaluate(test_data, test_labels, verbose=1)\n",
    "\n",
    "print('Test loss:', score[0])\n",
    "\n",
    "print('Test accuracy:', score[1])\n",
    "\n",
    "\n"
   ]
  },
  {
   "cell_type": "code",
   "execution_count": 22,
   "id": "eecc483f",
   "metadata": {},
   "outputs": [
    {
     "data": {
      "image/png": "[encoded data removed]",
      "text/plain": [
       "<Figure size 432x288 with 1 Axes>"
      ]
     },
     "metadata": {
      "needs_background": "light"
     },
     "output_type": "display_data"
    },
    {
     "data": {
      "image/png": "[encoded data removed]",
      "text/plain": [
       "<Figure size 432x288 with 1 Axes>"
      ]
     },
     "metadata": {
      "needs_background": "light"
     },
     "output_type": "display_data"
    }
   ],
   "source": [
    "#accuracy\n",
    "\n",
    "plt.xlabel('Epochs')\n",
    "\n",
    "plt.ylabel('accuracy')\n",
    "\n",
    "plt.title('Training Accuracy Vs Validation Accuracy')\n",
    "\n",
    "plt.plot(history.history['accuracy'], 'blue', label='Training Accuracy')\n",
    "\n",
    "plt.plot(history.history['val_accuracy'], 'red', label='Validation Accuracy')\n",
    "\n",
    "plt.xticks(range(0,epochs)[0::5])\n",
    "\n",
    "plt.legend()\n",
    "\n",
    "plt.show()\n",
    "\n",
    "\n",
    "\n",
    "#loss\n",
    "\n",
    "plt.xlabel('Epochs')\n",
    "\n",
    "plt.ylabel('Loss')\n",
    "\n",
    "plt.title('Training Loss Vs validation Loss')\n",
    "\n",
    "plt.plot(history.history['loss'], 'blue', label='Training Loss')\n",
    "\n",
    "plt.plot(history.history['val_loss'], 'red', label='Validation Loss')\n",
    "\n",
    "plt.xticks(range(0,epochs)[0::5])\n",
    "\n",
    "plt.legend()\n",
    "\n",
    "plt.show()\n",
    "\n",
    "\n"
   ]
  },
  {
   "cell_type": "code",
   "execution_count": null,
   "id": "ee026847",
   "metadata": {},
   "outputs": [],
   "source": []
  }
 ],
 "metadata": {
  "kernelspec": {
   "display_name": "Python 3 (ipykernel)",
   "language": "python",
   "name": "python3"
  },
  "language_info": {
   "codemirror_mode": {
    "name": "ipython",
    "version": 3
   },
   "file_extension": ".py",
   "mimetype": "text/x-python",
   "name": "python",
   "nbconvert_exporter": "python",
   "pygments_lexer": "ipython3",
   "version": "3.7.13"
  }
 },
 "nbformat": 4,
 "nbformat_minor": 5
}
